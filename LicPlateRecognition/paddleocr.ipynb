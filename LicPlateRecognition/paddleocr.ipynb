{
 "cells": [
  {
   "cell_type": "code",
   "execution_count": 3,
   "id": "b4de0ee1-d733-4377-ad24-444599bb5cc9",
   "metadata": {},
   "outputs": [
    {
     "name": "stdout",
     "output_type": "stream",
     "text": [
      "Dataset preparation complete!\n"
     ]
    }
   ],
   "source": [
    "import os\n",
    "import pandas as pd\n",
    "from shutil import copyfile\n",
    "\n",
    "# Load the CSV data\n",
    "csv_file = \"Licplatesrecognition_train.csv\"  # Replace with your CSV file path\n",
    "data = pd.read_csv(csv_file)\n",
    "\n",
    "# Define directories\n",
    "base_dir = \"dataset\"  # Base directory for the dataset\n",
    "train_images_dir = os.path.join(base_dir, \"train_images\")\n",
    "label_file_path = os.path.join(base_dir, \"train_label.txt\")\n",
    "\n",
    "# Create directories if not exist\n",
    "os.makedirs(train_images_dir, exist_ok=True)\n",
    "\n",
    "# Prepare labels file\n",
    "with open(label_file_path, \"w\") as label_file:\n",
    "    for _, row in data.iterrows():\n",
    "        img_id = row[\"img_id\"]\n",
    "        text = row[\"text\"]\n",
    "\n",
    "        # Assuming images are in the current directory; adjust as needed\n",
    "        source_image_path = os.path.join(\"recog_data/images_rec\", img_id)  # Adjust source path\n",
    "        destination_image_path = os.path.join(train_images_dir, img_id)\n",
    "\n",
    "        # Copy image to train_images folder\n",
    "        if os.path.exists(source_image_path):\n",
    "            copyfile(source_image_path, destination_image_path)\n",
    "        else:\n",
    "            print(f\"Warning: Image {source_image_path} not found!\")\n",
    "\n",
    "        # Write the label to the file\n",
    "        label_file.write(f\"{destination_image_path}\\t{text}\\n\")\n",
    "\n",
    "print(\"Dataset preparation complete!\")\n"
   ]
  },
  {
   "cell_type": "code",
   "execution_count": 4,
   "id": "46929ccc-d9ad-4559-9a2d-5cdcbf113782",
   "metadata": {},
   "outputs": [
    {
     "name": "stdout",
     "output_type": "stream",
     "text": [
      "/home/zeus/miniconda3/envs/cloudspace/bin/python: can't open file '/teamspace/studios/this_studio/datascience assignment/tools/train.py': [Errno 2] No such file or directory\n"
     ]
    }
   ],
   "source": [
    "!python tools/train.py -c configs/rec/rec_chinese_common_train.yml\n"
   ]
  },
  {
   "cell_type": "code",
   "execution_count": 5,
   "id": "ab8c4286-1d07-44fd-bd0a-62d898b968b4",
   "metadata": {},
   "outputs": [
    {
     "name": "stdout",
     "output_type": "stream",
     "text": [
      "--2024-12-12 05:45:18--  https://paddleocr.bj.bcebos.com/PP-OCRv3/ch_PP-OCRv3_rec_train.tar\n",
      "Resolving paddleocr.bj.bcebos.com (paddleocr.bj.bcebos.com)... 103.235.47.176, 2409:8c04:1001:1203:0:ff:b0bb:4f27\n",
      "Connecting to paddleocr.bj.bcebos.com (paddleocr.bj.bcebos.com)|103.235.47.176|:443... connected.\n",
      "HTTP request sent, awaiting response... 404 Not Found\n",
      "2024-12-12 05:45:20 ERROR 404: Not Found.\n",
      "\n",
      "tar: ch_PP-OCRv3_rec_train.tar: Cannot open: No such file or directory\n",
      "tar: Error is not recoverable: exiting now\n"
     ]
    }
   ],
   "source": [
    "!wget https://paddleocr.bj.bcebos.com/PP-OCRv3/ch_PP-OCRv3_rec_train.tar\n",
    "!tar -xvf ch_PP-OCRv3_rec_train.tar\n"
   ]
  },
  {
   "cell_type": "code",
   "execution_count": 1,
   "id": "796cf2a5-a8e0-4b1a-8645-72f600537a7d",
   "metadata": {},
   "outputs": [
    {
     "name": "stdout",
     "output_type": "stream",
     "text": [
      "Cloning into 'PaddleOCR'...\n",
      "\n"
     ]
    }
   ],
   "source": [
    "!git clone https://github.com/PaddlePaddle/PaddleOCR.git"
   ]
  },
  {
   "cell_type": "code",
   "execution_count": 2,
   "id": "c6e53b18-950d-4986-8b8a-4c38b6d2c8fa",
   "metadata": {},
   "outputs": [
    {
     "name": "stdout",
     "output_type": "stream",
     "text": [
      "rec_r32_gaspin_bilstm_att.yml\n",
      "rec_icdar15_train.yml\n",
      "rec_r31_sar.yml\n",
      "rec_mv3_none_bilstm_ctc.yml\n",
      "rec_r34_vd_tps_bilstm_att.yml\n",
      "rec_mtb_nrtr.yml\n",
      "rec_efficientb3_fpn_pren.yml\n",
      "rec_vit_parseq.yml\n",
      "rec_chinese_common_train.yml\n",
      "rec_r50_fpn_srn.yml\n",
      "rec_r34_vd_tps_bilstm_ctc.yml\n",
      "rec_unimernet.yml\n",
      "rec_d28_can.yml\n",
      "rec_r45_abinet.yml\n",
      "rec_resnet_rfl_visual.yml\n",
      "rec_mv3_none_none_ctc.yml\n",
      "rec_mv3_tps_bilstm_att.yml\n",
      "rec_resnet_rfl_att.yml\n",
      "rec_svtrnet.yml\n",
      "rec_svtrnet_cppd_base_en.yml\n",
      "rec_satrn.yml\n",
      "rec_mv3_tps_bilstm_ctc.yml\n",
      "rec_vitstr_none_ce.yml\n",
      "rec_r34_vd_none_bilstm_ctc.yml\n",
      "rec_latex_ocr.yml\n",
      "rec_svtrnet_ch.yml\n",
      "rec_r45_visionlan.yml\n",
      "rec_resnet_stn_bilstm_att.yml\n",
      "rec_r31_robustscanner.yml\n",
      "rec_svtrnet_cppd_base_ch.yml\n",
      "rec_r34_vd_none_none_ctc.yml\n"
     ]
    }
   ],
   "source": [
    "from pathlib import Path\n",
    "\n",
    "# Specify the directory\n",
    "directory = Path('PaddleOCR/configs/rec')\n",
    "\n",
    "# Iterate over all files in the directory\n",
    "for file in directory.iterdir():\n",
    "    if file.is_file():\n",
    "        print(file.name)\n"
   ]
  },
  {
   "cell_type": "code",
   "execution_count": 1,
   "id": "2fd18359-a2d0-4366-84de-08839e64c450",
   "metadata": {},
   "outputs": [
    {
     "name": "stderr",
     "output_type": "stream",
     "text": [
      "/home/zeus/miniconda3/envs/cloudspace/lib/python3.10/site-packages/scipy/__init__.py:146: UserWarning: A NumPy version >=1.17.3 and <1.25.0 is required for this version of SciPy (detected version 1.26.4\n",
      "  warnings.warn(f\"A NumPy version >={np_minversion} and <{np_maxversion}\"\n"
     ]
    },
    {
     "name": "stdout",
     "output_type": "stream",
     "text": [
      "[2024/12/12 14:59:04] ppocr DEBUG: Namespace(help='==SUPPRESS==', use_gpu=False, use_xpu=False, use_npu=False, use_mlu=False, ir_optim=True, use_tensorrt=False, min_subgraph_size=15, precision='fp32', gpu_mem=500, gpu_id=0, image_dir=None, page_num=0, det_algorithm='DB', det_model_dir='/teamspace/studios/this_studio/.paddleocr/whl/det/en/en_PP-OCRv3_det_infer', det_limit_side_len=960, det_limit_type='max', det_box_type='quad', det_db_thresh=0.3, det_db_box_thresh=0.6, det_db_unclip_ratio=1.5, max_batch_size=10, use_dilation=False, det_db_score_mode='fast', det_east_score_thresh=0.8, det_east_cover_thresh=0.1, det_east_nms_thresh=0.2, det_sast_score_thresh=0.5, det_sast_nms_thresh=0.2, det_pse_thresh=0, det_pse_box_thresh=0.85, det_pse_min_area=16, det_pse_scale=1, scales=[8, 16, 32], alpha=1.0, beta=1.0, fourier_degree=5, rec_algorithm='SVTR_LCNet', rec_model_dir='/teamspace/studios/this_studio/.paddleocr/whl/rec/en/en_PP-OCRv4_rec_infer', rec_image_inverse=True, rec_image_shape='3, 48, 320', rec_batch_num=6, max_text_length=25, rec_char_dict_path='/home/zeus/miniconda3/envs/cloudspace/lib/python3.10/site-packages/paddleocr/ppocr/utils/en_dict.txt', use_space_char=True, vis_font_path='./doc/fonts/simfang.ttf', drop_score=0.5, e2e_algorithm='PGNet', e2e_model_dir=None, e2e_limit_side_len=768, e2e_limit_type='max', e2e_pgnet_score_thresh=0.5, e2e_char_dict_path='./ppocr/utils/ic15_dict.txt', e2e_pgnet_valid_set='totaltext', e2e_pgnet_mode='fast', use_angle_cls=False, cls_model_dir='/teamspace/studios/this_studio/.paddleocr/whl/cls/ch_ppocr_mobile_v2.0_cls_infer', cls_image_shape='3, 48, 192', label_list=['0', '180'], cls_batch_num=6, cls_thresh=0.9, enable_mkldnn=False, cpu_threads=10, use_pdserving=False, warmup=False, sr_model_dir=None, sr_image_shape='3, 32, 128', sr_batch_num=1, draw_img_save_dir='./inference_results', save_crop_res=False, crop_res_save_dir='./output', use_mp=False, total_process_num=1, process_id=0, benchmark=False, save_log_path='./log_output/', show_log=True, use_onnx=False, return_word_box=False, output='./output', table_max_len=488, table_algorithm='TableAttn', table_model_dir=None, merge_no_span_structure=True, table_char_dict_path=None, formula_algorithm='LaTeXOCR', formula_model_dir=None, formula_char_dict_path=None, formula_batch_num=1, layout_model_dir=None, layout_dict_path=None, layout_score_threshold=0.5, layout_nms_threshold=0.5, kie_algorithm='LayoutXLM', ser_model_dir=None, re_model_dir=None, use_visual_backbone=True, ser_dict_path='../train_data/XFUND/class_list_xfun.txt', ocr_order_method=None, mode='structure', image_orientation=False, layout=True, table=True, formula=False, ocr=True, recovery=False, recovery_to_markdown=False, use_pdf2docx_api=False, invert=False, binarize=False, alphacolor=(255, 255, 255), lang='en', det=True, rec=True, type='ocr', savefile=False, ocr_version='PP-OCRv4', structure_version='PP-StructureV2')\n",
      "('685979', 0.9846765398979187)\n"
     ]
    }
   ],
   "source": [
    "from paddleocr import PaddleOCR\n",
    "ocr = PaddleOCR(lang='en') # need to run only once to load model into memory\n",
    "img_path = 'PaddleOCR/ppocr/data/dataset/train_data/101.jpg'\n",
    "result = ocr.ocr(img_path, det=False, cls=False)\n",
    "for idx in range(len(result)):\n",
    "    res = result[idx]\n",
    "    for line in res:\n",
    "        print(line)"
   ]
  },
  {
   "cell_type": "code",
   "execution_count": 2,
   "id": "c424666a-71ac-4a23-beb0-e9afb403c3ce",
   "metadata": {},
   "outputs": [],
   "source": [
    "def recog(img_path):\n",
    "    result = ocr.ocr(img_path, det=False, cls=False)\n",
    "    for idx in range(len(result)):\n",
    "        res = result[idx]\n",
    "        for line in res:\n",
    "            print(line)"
   ]
  },
  {
   "cell_type": "code",
   "execution_count": 3,
   "id": "10ee1d1a-20db-4799-ab15-fae1e6a86970",
   "metadata": {},
   "outputs": [
    {
     "name": "stdout",
     "output_type": "stream",
     "text": [
      "('588888', 0.983813464641571)\n"
     ]
    }
   ],
   "source": [
    "recog('PaddleOCR/ppocr/data/dataset/train_data/104.jpg')"
   ]
  },
  {
   "cell_type": "code",
   "execution_count": 4,
   "id": "1d273d10-2f0a-465a-940f-b19ff917bd89",
   "metadata": {},
   "outputs": [
    {
     "name": "stdout",
     "output_type": "stream",
     "text": [
      "Cloning into 'PaddleOCR'...\n",
      "\n"
     ]
    }
   ],
   "source": [
    "!git clone https://github.com/PaddlePaddle/PaddleOCR"
   ]
  },
  {
   "cell_type": "code",
   "execution_count": 5,
   "id": "c84cc252-6d39-49d8-ac39-e2b72ed27eb5",
   "metadata": {},
   "outputs": [
    {
     "name": "stdout",
     "output_type": "stream",
     "text": [
      "/teamspace/studios/this_studio/datascience assignment\n"
     ]
    }
   ],
   "source": [
    "!pwd"
   ]
  },
  {
   "cell_type": "code",
   "execution_count": 10,
   "id": "bf9bc178-b790-4910-bd59-6271f1dcf1ed",
   "metadata": {},
   "outputs": [
    {
     "name": "stdout",
     "output_type": "stream",
     "text": [
      "Generate rec label\n"
     ]
    }
   ],
   "source": [
    "!python PaddleOCR/ppocr/utils/gen_label.py --mode=\"rec\" --input_path=data/license_plates_detection_train/Licplatesrecognition_train.csv --output_label=output.txt\n"
   ]
  },
  {
   "cell_type": "code",
   "execution_count": 21,
   "id": "8ce9b727-dbc3-4c03-ac57-f8a77352559e",
   "metadata": {},
   "outputs": [
    {
     "name": "stdout",
     "output_type": "stream",
     "text": [
      "/home/zeus/miniconda3/envs/cloudspace/lib/python3.10/site-packages/scipy/__init__.py:146: UserWarning: A NumPy version >=1.17.3 and <1.25.0 is required for this version of SciPy (detected version 1.26.4\n",
      "  warnings.warn(f\"A NumPy version >={np_minversion} and <{np_maxversion}\"\n",
      "[2024/12/12 18:18:05] ppocr INFO: Architecture : \n",
      "[2024/12/12 18:18:05] ppocr INFO:     Backbone : \n",
      "[2024/12/12 18:18:05] ppocr INFO:         last_conv_stride : [1, 2]\n",
      "[2024/12/12 18:18:05] ppocr INFO:         last_pool_kernel_size : [2, 2]\n",
      "[2024/12/12 18:18:05] ppocr INFO:         last_pool_type : avg\n",
      "[2024/12/12 18:18:05] ppocr INFO:         name : MobileNetV1Enhance\n",
      "[2024/12/12 18:18:05] ppocr INFO:         scale : 0.5\n",
      "[2024/12/12 18:18:05] ppocr INFO:     Head : \n",
      "[2024/12/12 18:18:05] ppocr INFO:         head_list : \n",
      "[2024/12/12 18:18:05] ppocr INFO:             CTCHead : \n",
      "[2024/12/12 18:18:05] ppocr INFO:                 Head : \n",
      "[2024/12/12 18:18:05] ppocr INFO:                     fc_decay : 1e-05\n",
      "[2024/12/12 18:18:05] ppocr INFO:                 Neck : \n",
      "[2024/12/12 18:18:05] ppocr INFO:                     depth : 2\n",
      "[2024/12/12 18:18:05] ppocr INFO:                     dims : 64\n",
      "[2024/12/12 18:18:05] ppocr INFO:                     hidden_dims : 120\n",
      "[2024/12/12 18:18:05] ppocr INFO:                     name : svtr\n",
      "[2024/12/12 18:18:05] ppocr INFO:                     use_guide : True\n",
      "[2024/12/12 18:18:05] ppocr INFO:             SARHead : \n",
      "[2024/12/12 18:18:05] ppocr INFO:                 enc_dim : 512\n",
      "[2024/12/12 18:18:05] ppocr INFO:                 max_text_length : 10\n",
      "[2024/12/12 18:18:05] ppocr INFO:         name : MultiHead\n",
      "[2024/12/12 18:18:05] ppocr INFO:     Transform : None\n",
      "[2024/12/12 18:18:05] ppocr INFO:     algorithm : SVTR_LCNet\n",
      "[2024/12/12 18:18:05] ppocr INFO:     model_type : rec\n",
      "[2024/12/12 18:18:05] ppocr INFO: Eval : \n",
      "[2024/12/12 18:18:05] ppocr INFO:     dataset : \n",
      "[2024/12/12 18:18:05] ppocr INFO:         data_dir : ./train_data\n",
      "[2024/12/12 18:18:05] ppocr INFO:         label_file_list : ['./train_data/val_list.txt']\n",
      "[2024/12/12 18:18:05] ppocr INFO:         name : SimpleDataSet\n",
      "[2024/12/12 18:18:05] ppocr INFO:         transforms : \n",
      "[2024/12/12 18:18:05] ppocr INFO:             DecodeImage : \n",
      "[2024/12/12 18:18:05] ppocr INFO:                 channel_first : False\n",
      "[2024/12/12 18:18:05] ppocr INFO:                 img_mode : BGR\n",
      "[2024/12/12 18:18:05] ppocr INFO:             MultiLabelEncode : None\n",
      "[2024/12/12 18:18:05] ppocr INFO:             RecResizeImg : \n",
      "[2024/12/12 18:18:05] ppocr INFO:                 image_shape : [3, 48, 320]\n",
      "[2024/12/12 18:18:05] ppocr INFO:             KeepKeys : \n",
      "[2024/12/12 18:18:05] ppocr INFO:                 keep_keys : ['image', 'label_ctc', 'label_sar', 'length', 'valid_ratio']\n",
      "[2024/12/12 18:18:05] ppocr INFO:     loader : \n",
      "[2024/12/12 18:18:05] ppocr INFO:         batch_size_per_card : 128\n",
      "[2024/12/12 18:18:05] ppocr INFO:         drop_last : False\n",
      "[2024/12/12 18:18:05] ppocr INFO:         num_workers : 4\n",
      "[2024/12/12 18:18:05] ppocr INFO:         shuffle : False\n",
      "[2024/12/12 18:18:05] ppocr INFO: Global : \n",
      "[2024/12/12 18:18:05] ppocr INFO:     cal_metric_during_train : True\n",
      "[2024/12/12 18:18:05] ppocr INFO:     character_dict_path : ../../../dataset/dict.txt\n",
      "[2024/12/12 18:18:05] ppocr INFO:     checkpoints : None\n",
      "[2024/12/12 18:18:05] ppocr INFO:     debug : False\n",
      "[2024/12/12 18:18:05] ppocr INFO:     distributed : False\n",
      "[2024/12/12 18:18:05] ppocr INFO:     epoch_num : 500\n",
      "[2024/12/12 18:18:05] ppocr INFO:     eval_batch_step : [0, 2000]\n",
      "[2024/12/12 18:18:05] ppocr INFO:     infer_img : doc/imgs_words/ch/word_1.jpg\n",
      "[2024/12/12 18:18:05] ppocr INFO:     infer_mode : False\n",
      "[2024/12/12 18:18:05] ppocr INFO:     log_smooth_window : 20\n",
      "[2024/12/12 18:18:05] ppocr INFO:     max_text_length : 10\n",
      "[2024/12/12 18:18:05] ppocr INFO:     pretrained_model : pretrain_models/en_PP-OCRv3_rec_train/best_accuracy.pdparams\n",
      "[2024/12/12 18:18:05] ppocr INFO:     print_batch_step : 10\n",
      "[2024/12/12 18:18:05] ppocr INFO:     save_epoch_step : 3\n",
      "[2024/12/12 18:18:05] ppocr INFO:     save_inference_dir : None\n",
      "[2024/12/12 18:18:05] ppocr INFO:     save_model_dir : ./output/v3_en_mobile\n",
      "[2024/12/12 18:18:05] ppocr INFO:     save_res_path : ./output/rec/predicts_ppocrv3_en.txt\n",
      "[2024/12/12 18:18:05] ppocr INFO:     use_gpu : False\n",
      "[2024/12/12 18:18:05] ppocr INFO:     use_space_char : True\n",
      "[2024/12/12 18:18:05] ppocr INFO:     use_visualdl : False\n",
      "[2024/12/12 18:18:05] ppocr INFO: Loss : \n",
      "[2024/12/12 18:18:05] ppocr INFO:     loss_config_list : \n",
      "[2024/12/12 18:18:05] ppocr INFO:         CTCLoss : None\n",
      "[2024/12/12 18:18:05] ppocr INFO:         SARLoss : None\n",
      "[2024/12/12 18:18:05] ppocr INFO:     name : MultiLoss\n",
      "[2024/12/12 18:18:05] ppocr INFO: Metric : \n",
      "[2024/12/12 18:18:05] ppocr INFO:     ignore_space : False\n",
      "[2024/12/12 18:18:05] ppocr INFO:     main_indicator : acc\n",
      "[2024/12/12 18:18:05] ppocr INFO:     name : RecMetric\n",
      "[2024/12/12 18:18:05] ppocr INFO: Optimizer : \n",
      "[2024/12/12 18:18:05] ppocr INFO:     beta1 : 0.9\n",
      "[2024/12/12 18:18:05] ppocr INFO:     beta2 : 0.999\n",
      "[2024/12/12 18:18:05] ppocr INFO:     lr : \n",
      "[2024/12/12 18:18:05] ppocr INFO:         learning_rate : 0.001\n",
      "[2024/12/12 18:18:05] ppocr INFO:         name : Cosine\n",
      "[2024/12/12 18:18:05] ppocr INFO:         warmup_epoch : 5\n",
      "[2024/12/12 18:18:05] ppocr INFO:     name : Adam\n",
      "[2024/12/12 18:18:05] ppocr INFO:     regularizer : \n",
      "[2024/12/12 18:18:05] ppocr INFO:         factor : 3e-05\n",
      "[2024/12/12 18:18:05] ppocr INFO:         name : L2\n",
      "[2024/12/12 18:18:05] ppocr INFO: PostProcess : \n",
      "[2024/12/12 18:18:05] ppocr INFO:     name : CTCLabelDecode\n",
      "[2024/12/12 18:18:05] ppocr INFO: Train : \n",
      "[2024/12/12 18:18:05] ppocr INFO:     dataset : \n",
      "[2024/12/12 18:18:05] ppocr INFO:         data_dir : ./dataset/\n",
      "[2024/12/12 18:18:05] ppocr INFO:         ext_op_transform_idx : 1\n",
      "[2024/12/12 18:18:05] ppocr INFO:         label_file_list : ['dataset/train_label.txt']\n",
      "[2024/12/12 18:18:05] ppocr INFO:         name : SimpleDataSet\n",
      "[2024/12/12 18:18:05] ppocr INFO:         transforms : \n",
      "[2024/12/12 18:18:05] ppocr INFO:             DecodeImage : \n",
      "[2024/12/12 18:18:05] ppocr INFO:                 channel_first : False\n",
      "[2024/12/12 18:18:05] ppocr INFO:                 img_mode : BGR\n",
      "[2024/12/12 18:18:05] ppocr INFO:             RecConAug : \n",
      "[2024/12/12 18:18:05] ppocr INFO:                 ext_data_num : 2\n",
      "[2024/12/12 18:18:05] ppocr INFO:                 image_shape : [48, 320, 3]\n",
      "[2024/12/12 18:18:05] ppocr INFO:                 max_text_length : 10\n",
      "[2024/12/12 18:18:05] ppocr INFO:                 prob : 0.5\n",
      "[2024/12/12 18:18:05] ppocr INFO:             RecAug : None\n",
      "[2024/12/12 18:18:05] ppocr INFO:             MultiLabelEncode : None\n",
      "[2024/12/12 18:18:05] ppocr INFO:             RecResizeImg : \n",
      "[2024/12/12 18:18:05] ppocr INFO:                 image_shape : [3, 48, 320]\n",
      "[2024/12/12 18:18:05] ppocr INFO:             KeepKeys : \n",
      "[2024/12/12 18:18:05] ppocr INFO:                 keep_keys : ['image', 'label_ctc', 'label_sar', 'length', 'valid_ratio']\n",
      "[2024/12/12 18:18:05] ppocr INFO:     loader : \n",
      "[2024/12/12 18:18:05] ppocr INFO:         batch_size_per_card : 128\n",
      "[2024/12/12 18:18:05] ppocr INFO:         drop_last : True\n",
      "[2024/12/12 18:18:05] ppocr INFO:         num_workers : 4\n",
      "[2024/12/12 18:18:05] ppocr INFO:         shuffle : True\n",
      "[2024/12/12 18:18:05] ppocr INFO: profiler_options : None\n",
      "[2024/12/12 18:18:05] ppocr INFO: train with paddle 2.6.2 and device Place(cpu)\n",
      "[2024/12/12 18:18:05] ppocr INFO: Initialize indexs of datasets:['dataset/train_label.txt']\n",
      "Traceback (most recent call last):\n",
      "  File \"/teamspace/studios/this_studio/datascience assignment/PaddleOCR/tools/train.py\", line 269, in <module>\n",
      "    main(config, device, logger, vdl_writer, seed)\n",
      "  File \"/teamspace/studios/this_studio/datascience assignment/PaddleOCR/tools/train.py\", line 55, in main\n",
      "    train_dataloader = build_dataloader(config, \"Train\", device, logger, seed)\n",
      "  File \"/teamspace/studios/this_studio/datascience assignment/PaddleOCR/ppocr/data/__init__.py\", line 107, in build_dataloader\n",
      "    dataset = eval(module_name)(config, mode, logger, seed)\n",
      "  File \"/teamspace/studios/this_studio/datascience assignment/PaddleOCR/ppocr/data/simple_dataset.py\", line 49, in __init__\n",
      "    self.data_lines = self.get_image_info_list(label_file_list, ratio_list)\n",
      "  File \"/teamspace/studios/this_studio/datascience assignment/PaddleOCR/ppocr/data/simple_dataset.py\", line 62, in get_image_info_list\n",
      "    with open(file, \"rb\") as f:\n",
      "FileNotFoundError: [Errno 2] No such file or directory: 'dataset/train_label.txt'\n"
     ]
    }
   ],
   "source": [
    "!python3 PaddleOCR/tools/train.py -c PaddleOCR/configs/rec/PP-OCRv3/en_PP-OCRv3_rec-Copy1.yml"
   ]
  },
  {
   "cell_type": "code",
   "execution_count": 11,
   "id": "6672e3ab-4085-4f67-b6c7-29725503375a",
   "metadata": {},
   "outputs": [],
   "source": [
    "# cd /home/zeus/miniconda3/envs/cloudspace/lib/python3.10/site-packages/paddleocr/pretrain_models "
   ]
  },
  {
   "cell_type": "code",
   "execution_count": 14,
   "id": "7d44dc26-9a5b-47e6-8d00-d2ce44a9fc71",
   "metadata": {},
   "outputs": [
    {
     "name": "stdout",
     "output_type": "stream",
     "text": [
      "--2024-12-12 18:08:11--  https://paddleocr.bj.bcebos.com/PP-OCRv3/english/en_PP-OCRv3_rec_train.tar\n",
      "Resolving paddleocr.bj.bcebos.com (paddleocr.bj.bcebos.com)... 103.235.47.176, 2409:8c04:1001:1203:0:ff:b0bb:4f27\n",
      "Connecting to paddleocr.bj.bcebos.com (paddleocr.bj.bcebos.com)|103.235.47.176|:443... connected.\n",
      "HTTP request sent, awaiting response... 200 OK\n",
      "Length: 204093440 (195M) [application/x-tar]\n",
      "Saving to: ‘./pretrain_models/en_PP-OCRv3_rec_train.tar’\n",
      "\n",
      "en_PP-OCRv3_rec_tra 100%[===================>] 194.64M  11.5MB/s    in 36s     \n",
      "\n",
      "2024-12-12 18:08:49 (5.45 MB/s) - ‘./pretrain_models/en_PP-OCRv3_rec_train.tar’ saved [204093440/204093440]\n",
      "\n",
      "tar: en_PP-OCRv3_rec_train.tar: Cannot open: No such file or directory\n",
      "tar: Error is not recoverable: exiting now\n"
     ]
    }
   ],
   "source": [
    "!wget -P ./pretrain_models/ https://paddleocr.bj.bcebos.com/PP-OCRv3/english/en_PP-OCRv3_rec_train.tar\n",
    "!tar -xf en_PP-OCRv3_rec_train.tar && rm -rf en_PP-OCRv3_rec_train.tar"
   ]
  },
  {
   "cell_type": "code",
   "execution_count": 17,
   "id": "918e69a7-d1b9-4477-ad90-596e41f4a892",
   "metadata": {},
   "outputs": [
    {
     "name": "stdout",
     "output_type": "stream",
     "text": [
      "/teamspace/studios/this_studio/datascience assignment/pretrain_models\n"
     ]
    }
   ],
   "source": [
    "%cd pretrain_models\n",
    "!tar -xf en_PP-OCRv3_rec_train.tar && rm -rf en_PP-OCRv3_rec_train.tar"
   ]
  },
  {
   "cell_type": "code",
   "execution_count": 19,
   "id": "7094fead-c498-4fa6-8ad4-415284a9d4e1",
   "metadata": {},
   "outputs": [
    {
     "name": "stdout",
     "output_type": "stream",
     "text": [
      "/teamspace/studios/this_studio/datascience assignment\n"
     ]
    }
   ],
   "source": [
    "%cd .."
   ]
  },
  {
   "cell_type": "code",
   "execution_count": null,
   "id": "ac65a746-4fd5-4b3a-a22d-bedfbb07f130",
   "metadata": {},
   "outputs": [],
   "source": []
  }
 ],
 "metadata": {
  "kernelspec": {
   "display_name": "Python 3",
   "language": "python",
   "name": "python3"
  },
  "language_info": {
   "codemirror_mode": {
    "name": "ipython",
    "version": 3
   },
   "file_extension": ".py",
   "mimetype": "text/x-python",
   "name": "python",
   "nbconvert_exporter": "python",
   "pygments_lexer": "ipython3",
   "version": "3.10.14"
  }
 },
 "nbformat": 4,
 "nbformat_minor": 5
}
