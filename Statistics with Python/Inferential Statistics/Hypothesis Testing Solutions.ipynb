{
 "cells": [
  {
   "cell_type": "markdown",
   "metadata": {
    "id": "ikl-D009UQMv"
   },
   "source": [
    "#Libraries and data"
   ]
  },
  {
   "cell_type": "code",
   "execution_count": 4,
   "metadata": {},
   "outputs": [],
   "source": [
    "import pandas as pd\n",
    "import numpy as np\n",
    "import seaborn as sns\n",
    "import scipy.stats as st\n",
    "import statsmodels.stats.weightstats as sm"
   ]
  },
  {
   "cell_type": "markdown",
   "metadata": {
    "id": "_D0NU2UI8rQW"
   },
   "source": [
    "#Useful functions"
   ]
  },
  {
   "cell_type": "markdown",
   "metadata": {
    "id": "M9B3ue-vgSmm"
   },
   "source": [
    "# 2-Tailed tests with known variance"
   ]
  },
  {
   "cell_type": "markdown",
   "metadata": {
    "id": "9-i6oDGRgbkW"
   },
   "source": [
    "You have invested thousands of dollars per employee to improve their satisfaction and productivity. Your goal is to improve from the average of 54 cars produced so far, with a corresponding standard deviation (of the population) of 2.\n",
    "Bruno believes the opposite. That the benefits and other factors like the constant raining are hurting production due to constant sickness. The agreed confidence level between you both is 95%"
   ]
  },
  {
   "cell_type": "markdown",
   "metadata": {},
   "source": [
    "- Null Hypythesis: Average is 54\n",
    "- Alternate Hypothesis: Average is not 54"
   ]
  },
  {
   "cell_type": "code",
   "execution_count": 7,
   "metadata": {},
   "outputs": [],
   "source": [
    "data_loc = \"../../Z_Resources/Statistics with Python/Inferential Statistics/Hypothesis Testing/\""
   ]
  },
  {
   "cell_type": "code",
   "execution_count": 9,
   "metadata": {},
   "outputs": [
    {
     "data": {
      "text/html": [
       "<div>\n",
       "<style scoped>\n",
       "    .dataframe tbody tr th:only-of-type {\n",
       "        vertical-align: middle;\n",
       "    }\n",
       "\n",
       "    .dataframe tbody tr th {\n",
       "        vertical-align: top;\n",
       "    }\n",
       "\n",
       "    .dataframe thead th {\n",
       "        text-align: right;\n",
       "    }\n",
       "</style>\n",
       "<table border=\"1\" class=\"dataframe\">\n",
       "  <thead>\n",
       "    <tr style=\"text-align: right;\">\n",
       "      <th></th>\n",
       "      <th>Production Date</th>\n",
       "      <th>Defects Found</th>\n",
       "      <th>Cars Produced</th>\n",
       "      <th>Weather Condition</th>\n",
       "      <th>Workers on Shift</th>\n",
       "    </tr>\n",
       "  </thead>\n",
       "  <tbody>\n",
       "    <tr>\n",
       "      <th>0</th>\n",
       "      <td>2023-01-01</td>\n",
       "      <td>3</td>\n",
       "      <td>55</td>\n",
       "      <td>Rainy</td>\n",
       "      <td>20</td>\n",
       "    </tr>\n",
       "    <tr>\n",
       "      <th>1</th>\n",
       "      <td>2023-01-02</td>\n",
       "      <td>2</td>\n",
       "      <td>57</td>\n",
       "      <td>Rainy</td>\n",
       "      <td>19</td>\n",
       "    </tr>\n",
       "    <tr>\n",
       "      <th>2</th>\n",
       "      <td>2023-01-03</td>\n",
       "      <td>1</td>\n",
       "      <td>54</td>\n",
       "      <td>Rainy</td>\n",
       "      <td>21</td>\n",
       "    </tr>\n",
       "    <tr>\n",
       "      <th>3</th>\n",
       "      <td>2023-01-04</td>\n",
       "      <td>0</td>\n",
       "      <td>56</td>\n",
       "      <td>Rainy</td>\n",
       "      <td>22</td>\n",
       "    </tr>\n",
       "    <tr>\n",
       "      <th>4</th>\n",
       "      <td>2023-01-05</td>\n",
       "      <td>2</td>\n",
       "      <td>59</td>\n",
       "      <td>Rainy</td>\n",
       "      <td>20</td>\n",
       "    </tr>\n",
       "  </tbody>\n",
       "</table>\n",
       "</div>"
      ],
      "text/plain": [
       "  Production Date  Defects Found  Cars Produced Weather Condition  \\\n",
       "0      2023-01-01              3             55             Rainy   \n",
       "1      2023-01-02              2             57             Rainy   \n",
       "2      2023-01-03              1             54             Rainy   \n",
       "3      2023-01-04              0             56             Rainy   \n",
       "4      2023-01-05              2             59             Rainy   \n",
       "\n",
       "   Workers on Shift  \n",
       "0                20  \n",
       "1                19  \n",
       "2                21  \n",
       "3                22  \n",
       "4                20  "
      ]
     },
     "execution_count": 9,
     "metadata": {},
     "output_type": "execute_result"
    }
   ],
   "source": [
    "df_main = pd.read_csv(data_loc+\"tesla_main.csv\")\n",
    "df_main.head()"
   ]
  },
  {
   "cell_type": "code",
   "execution_count": 11,
   "metadata": {},
   "outputs": [],
   "source": [
    "#population\n",
    "mean_pop = 54\n",
    "sd_pop = 2\n",
    "confidence = .95\n",
    "alpha = 1- confidence\n",
    "#sample\n",
    "mean_sample = df_main[\"Cars Produced\"].mean()\n",
    "sample_size = df_main[\"Cars Produced\"].count()\n"
   ]
  },
  {
   "cell_type": "code",
   "execution_count": 14,
   "metadata": {},
   "outputs": [
    {
     "data": {
      "text/plain": [
       "4.112619161025777"
      ]
     },
     "execution_count": 14,
     "metadata": {},
     "output_type": "execute_result"
    }
   ],
   "source": [
    "z_score = (mean_sample-mean_pop)/(sd_pop/np.sqrt(sample_size))\n",
    "z_score"
   ]
  },
  {
   "cell_type": "code",
   "execution_count": 17,
   "metadata": {},
   "outputs": [
    {
     "data": {
      "text/plain": [
       "3.9119543361101206e-05"
      ]
     },
     "execution_count": 17,
     "metadata": {},
     "output_type": "execute_result"
    }
   ],
   "source": [
    "# calculate p-value for the z_score (two tails)\n",
    "tails = 2\n",
    "p_value = st.norm.sf(abs(z_score))*tails\n",
    "p_value"
   ]
  },
  {
   "cell_type": "code",
   "execution_count": 59,
   "metadata": {},
   "outputs": [],
   "source": [
    "#Interpret the p_value\n",
    "def p_value_reader(p_value, alpha):\n",
    "    if p_value < alpha:\n",
    "        print(\"Reject the Null Hypothesis\")\n",
    "    else:\n",
    "        print(\"Fail to reject the Null Hypothesis\")"
   ]
  },
  {
   "cell_type": "code",
   "execution_count": 60,
   "metadata": {},
   "outputs": [],
   "source": [
    "# Z-test Function\n",
    "def z_test(df: pd.Series, pop_mean: float, confidence:float, tails: int = 2,pop_std = None) -> None:\n",
    "    sample_mean = df.mean()\n",
    "    sample_size = df.count()\n",
    "    alpha = 1-confidence\n",
    "    z_score = (sample_mean-pop_mean)/(pop_std/np.sqrt(sample_size))\n",
    "    p_value = st.norm.sf(abs(z_score))*tails\n",
    "    p_value_reader(p_value, alpha)"
   ]
  },
  {
   "cell_type": "code",
   "execution_count": 61,
   "metadata": {},
   "outputs": [
    {
     "name": "stdout",
     "output_type": "stream",
     "text": [
      "Reject the Null Hypothesis\n"
     ]
    }
   ],
   "source": [
    "z_test(df_main[\"Cars Produced\"], 54,.95, 2,2)"
   ]
  },
  {
   "cell_type": "markdown",
   "metadata": {
    "id": "9tRLw_sLtJIw"
   },
   "source": [
    "# 2-Tailed tests with unknown variance"
   ]
  },
  {
   "cell_type": "markdown",
   "metadata": {
    "id": "QLH1biFHtSjz"
   },
   "source": [
    "Social Media has been all over Tesla. The engines from a couple of cars started to catch smoke. Even worse, the cars were from high profile customers. You talk to your employees who tell you that the number of defects is within normal average of 2.2. Bruno asked you to investigate the situation yourself. Since the car production has suffered many changes in the past few months, there is no data about the population."
   ]
  },
  {
   "cell_type": "code",
   "execution_count": 69,
   "metadata": {},
   "outputs": [],
   "source": [
    "pop_mean = 2.2\n",
    "data = df_main[\"Defects Found\"]\n",
    "sample_size = data.count()\n",
    "sample_mean = data.mean()\n",
    "confidence = .95\n",
    "alpha = 1-confidence\n",
    "sample_sd = data.std()"
   ]
  },
  {
   "cell_type": "code",
   "execution_count": 70,
   "metadata": {},
   "outputs": [
    {
     "data": {
      "text/plain": [
       "1.1259778359082033"
      ]
     },
     "execution_count": 70,
     "metadata": {},
     "output_type": "execute_result"
    }
   ],
   "source": [
    "# t-score\n",
    "t_score = (sample_mean-pop_mean)/(sample_sd/np.sqrt(sample_size))\n",
    "t_score"
   ]
  },
  {
   "cell_type": "code",
   "execution_count": 71,
   "metadata": {},
   "outputs": [
    {
     "data": {
      "text/plain": [
       "0.26515424936297255"
      ]
     },
     "execution_count": 71,
     "metadata": {},
     "output_type": "execute_result"
    }
   ],
   "source": [
    "# p_value\n",
    "tails = 2\n",
    "p_value = st.t.sf(abs(t_score),df = sample_size - 1)*tails\n",
    "p_value"
   ]
  },
  {
   "cell_type": "code",
   "execution_count": 72,
   "metadata": {},
   "outputs": [
    {
     "name": "stdout",
     "output_type": "stream",
     "text": [
      "Fail to reject the Null Hypothesis\n"
     ]
    }
   ],
   "source": [
    "p_value_reader(p_value,alpha)"
   ]
  },
  {
   "cell_type": "markdown",
   "metadata": {},
   "source": [
    "- average no of defects are 2.2"
   ]
  },
  {
   "cell_type": "code",
   "execution_count": 73,
   "metadata": {},
   "outputs": [
    {
     "data": {
      "text/plain": [
       "Ttest_1sampResult(statistic=1.1259778359082033, pvalue=0.26515424936297255)"
      ]
     },
     "execution_count": 73,
     "metadata": {},
     "output_type": "execute_result"
    }
   ],
   "source": [
    "st.ttest_1samp(a=data, alternative=\"two-sided\", popmean=pop_mean)"
   ]
  },
  {
   "cell_type": "markdown",
   "metadata": {
    "id": "PJTwgnEv2UG3"
   },
   "source": [
    "#2-Tailed Paired T-Test"
   ]
  },
  {
   "cell_type": "markdown",
   "metadata": {
    "id": "xPUeV2p32YlX"
   },
   "source": [
    "The Sales department has been very critical of Tesla recently, saying that they have been getting many complains from customers that claim that the car is taking longer than expected. They have even voiced their concerns to Bruno!\n",
    "\n",
    "Your department, on the other hand, says that the production has been stable over time and going according to plan. They fire back and say that the sales department has been selling too much. You decide to take initiative to see if the production is stable in the last 2 months.\n",
    "\n",
    "\n",
    "\n",
    "\n",
    "\n"
   ]
  },
  {
   "cell_type": "code",
   "execution_count": 75,
   "metadata": {},
   "outputs": [
    {
     "data": {
      "text/html": [
       "<div>\n",
       "<style scoped>\n",
       "    .dataframe tbody tr th:only-of-type {\n",
       "        vertical-align: middle;\n",
       "    }\n",
       "\n",
       "    .dataframe tbody tr th {\n",
       "        vertical-align: top;\n",
       "    }\n",
       "\n",
       "    .dataframe thead th {\n",
       "        text-align: right;\n",
       "    }\n",
       "</style>\n",
       "<table border=\"1\" class=\"dataframe\">\n",
       "  <thead>\n",
       "    <tr style=\"text-align: right;\">\n",
       "      <th></th>\n",
       "      <th>Day</th>\n",
       "      <th>Month 1</th>\n",
       "      <th>Month 2</th>\n",
       "    </tr>\n",
       "  </thead>\n",
       "  <tbody>\n",
       "    <tr>\n",
       "      <th>0</th>\n",
       "      <td>1</td>\n",
       "      <td>58</td>\n",
       "      <td>54</td>\n",
       "    </tr>\n",
       "    <tr>\n",
       "      <th>1</th>\n",
       "      <td>2</td>\n",
       "      <td>54</td>\n",
       "      <td>56</td>\n",
       "    </tr>\n",
       "    <tr>\n",
       "      <th>2</th>\n",
       "      <td>3</td>\n",
       "      <td>57</td>\n",
       "      <td>55</td>\n",
       "    </tr>\n",
       "    <tr>\n",
       "      <th>3</th>\n",
       "      <td>4</td>\n",
       "      <td>55</td>\n",
       "      <td>53</td>\n",
       "    </tr>\n",
       "    <tr>\n",
       "      <th>4</th>\n",
       "      <td>5</td>\n",
       "      <td>55</td>\n",
       "      <td>52</td>\n",
       "    </tr>\n",
       "  </tbody>\n",
       "</table>\n",
       "</div>"
      ],
      "text/plain": [
       "   Day  Month 1  Month 2\n",
       "0    1       58       54\n",
       "1    2       54       56\n",
       "2    3       57       55\n",
       "3    4       55       53\n",
       "4    5       55       52"
      ]
     },
     "execution_count": 75,
     "metadata": {},
     "output_type": "execute_result"
    }
   ],
   "source": [
    "df_paired = pd.read_csv(data_loc+\"tesla_paired.csv\")\n",
    "df_paired.head()"
   ]
  },
  {
   "cell_type": "code",
   "execution_count": null,
   "metadata": {},
   "outputs": [],
   "source": []
  },
  {
   "cell_type": "markdown",
   "metadata": {
    "id": "m5TlpvPUrDf_"
   },
   "source": [
    "#2-Tailed Two Sample T-Test"
   ]
  },
  {
   "cell_type": "markdown",
   "metadata": {
    "id": "VsmrNRxkrtYX"
   },
   "source": [
    "The Tesla factory you manage has two shifts during the day. You are present during shift 2, but not shift 1. Your second in command who you that shift 2 is doing great.\n",
    "\n",
    "Of course, you are aware that, to prove to Bruno that both shifts work with similar productivity, you need to show them numbers. Of course, nothing is better than hypothesis testing"
   ]
  },
  {
   "cell_type": "markdown",
   "metadata": {
    "id": "EOhyaELqzOct"
   },
   "source": [
    "# 1-Tailed Tests with Known Variance"
   ]
  },
  {
   "cell_type": "markdown",
   "metadata": {
    "id": "4P9_hWyFzQ_a"
   },
   "source": [
    "You have invested thousands of dollars per employee to improve their satisfaction and productivity. Your goal is to improve from the average of 54.5 cars produced so far, with a corresponding standard deviation (of the population) of 2.\n",
    "\n",
    "Brun does not believe it and asks for proof. Statistical proof of course :)"
   ]
  },
  {
   "cell_type": "markdown",
   "metadata": {
    "id": "LveWT0Ou1jV4"
   },
   "source": [
    "# 1-Tailed Test with Unknown Variance"
   ]
  },
  {
   "cell_type": "markdown",
   "metadata": {
    "id": "7hMDNMBE1oNI"
   },
   "source": [
    "Social Media has been all over Tesla. They say that more and more people are complaining about defects. They claim that improvements are urgently needed. You talk to your employees who tell you that the number of defects is within normal average of 2.4, maybe even better than that.\n",
    "\n",
    "You decide to investigate the situation yourself. Since the car production has suffered many changes in the past few months, there is no data about the population."
   ]
  },
  {
   "cell_type": "markdown",
   "metadata": {
    "id": "fLpWiTgj2opQ"
   },
   "source": [
    "# 1-Tailed Paired T-Test"
   ]
  },
  {
   "cell_type": "markdown",
   "metadata": {
    "id": "lbg7ZUmd3Gu_"
   },
   "source": [
    "The Sales department has been very critical of Tesla recently, saying that they have been getting many complains from customers that claim that the car is taking longer than expected and that the production slowed down last month. They have even voiced their concerns to Bruno.\n",
    "\n",
    "Your department, on the other hand, says that the production is at least as good as before. The historical pattern is that productivity increases over time"
   ]
  },
  {
   "cell_type": "markdown",
   "metadata": {
    "id": "RYM-FRll5Ldi"
   },
   "source": [
    "# 1-Tailed Two-Sample T-Test"
   ]
  },
  {
   "cell_type": "markdown",
   "metadata": {
    "id": "AY4bltCR5R_t"
   },
   "source": [
    "The Tesla factory you manage has two shifts during the day. You are present during shift 2, but not shift 1. You have your second in command who tells you that shift 1 is doing great. In fact, her recent incentives led to higher efficiency during the second shift. Let's if that is true."
   ]
  },
  {
   "cell_type": "markdown",
   "metadata": {
    "id": "yeVeOKW8AnIj"
   },
   "source": [
    "# Chisquare Test"
   ]
  },
  {
   "cell_type": "markdown",
   "metadata": {
    "id": "FcU51znBDZ34"
   },
   "source": [
    "You are a car production manager in charge of two factories, Factory A and Factory B. Both factories have recently implemented different quality control measures to reduce the number of defective cars produced in each of the three car categories: sedan, SUV, and truck. You want to determine if the quality control measures have had any significant impact on reducing the proportion of defective cars across the three categories."
   ]
  }
 ],
 "metadata": {
  "colab": {
   "authorship_tag": "ABX9TyOKbbPPB9A4DgM4F/H9kqnX",
   "collapsed_sections": [
    "M9B3ue-vgSmm",
    "9tRLw_sLtJIw",
    "PJTwgnEv2UG3",
    "m5TlpvPUrDf_",
    "EOhyaELqzOct",
    "LveWT0Ou1jV4",
    "fLpWiTgj2opQ",
    "RYM-FRll5Ldi",
    "yeVeOKW8AnIj"
   ],
   "mount_file_id": "11X3q4Xox_TS_WMqP9SGbPM4UD0eW7Oa_",
   "provenance": []
  },
  "kernelspec": {
   "display_name": "Python 3",
   "language": "python",
   "name": "python3"
  },
  "language_info": {
   "codemirror_mode": {
    "name": "ipython",
    "version": 3
   },
   "file_extension": ".py",
   "mimetype": "text/x-python",
   "name": "python",
   "nbconvert_exporter": "python",
   "pygments_lexer": "ipython3",
   "version": "3.10.14"
  }
 },
 "nbformat": 4,
 "nbformat_minor": 4
}
