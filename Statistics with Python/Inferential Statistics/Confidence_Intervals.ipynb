{
 "cells": [
  {
   "cell_type": "code",
   "execution_count": 1,
   "id": "4fd025d8-b631-4c42-b438-2a94c1fe5be8",
   "metadata": {},
   "outputs": [
    {
     "name": "stderr",
     "output_type": "stream",
     "text": [
      "/home/zeus/miniconda3/envs/cloudspace/lib/python3.10/site-packages/scipy/__init__.py:146: UserWarning: A NumPy version >=1.17.3 and <1.25.0 is required for this version of SciPy (detected version 1.26.4\n",
      "  warnings.warn(f\"A NumPy version >={np_minversion} and <{np_maxversion}\"\n"
     ]
    }
   ],
   "source": [
    "import matplotlib.pyplot as plt\n",
    "import seaborn as sns\n",
    "import scipy.stats as st\n",
    "import math\n",
    "import pandas as pd\n",
    "import statsmodels.stats.api as sm"
   ]
  },
  {
   "cell_type": "code",
   "execution_count": 2,
   "id": "2288ca10-53dd-4a44-9f08-346fb87a31fc",
   "metadata": {},
   "outputs": [
    {
     "data": {
      "text/plain": [
       "'/teamspace/studios/this_studio/DataScience/Statistics with Python/Inferential Statistics'"
      ]
     },
     "execution_count": 2,
     "metadata": {},
     "output_type": "execute_result"
    }
   ],
   "source": [
    "%pwd\n",
    "# %cd .."
   ]
  },
  {
   "cell_type": "code",
   "execution_count": 3,
   "id": "6208daea-211d-4471-885c-e78e06491186",
   "metadata": {},
   "outputs": [
    {
     "data": {
      "text/html": [
       "<div>\n",
       "<style scoped>\n",
       "    .dataframe tbody tr th:only-of-type {\n",
       "        vertical-align: middle;\n",
       "    }\n",
       "\n",
       "    .dataframe tbody tr th {\n",
       "        vertical-align: top;\n",
       "    }\n",
       "\n",
       "    .dataframe thead th {\n",
       "        text-align: right;\n",
       "    }\n",
       "</style>\n",
       "<table border=\"1\" class=\"dataframe\">\n",
       "  <thead>\n",
       "    <tr style=\"text-align: right;\">\n",
       "      <th></th>\n",
       "      <th>Product Name</th>\n",
       "      <th>Crust</th>\n",
       "      <th>Toppings</th>\n",
       "      <th>Price</th>\n",
       "      <th>Delivery Time</th>\n",
       "      <th># pizzas the customer ordered before</th>\n",
       "    </tr>\n",
       "  </thead>\n",
       "  <tbody>\n",
       "    <tr>\n",
       "      <th>0</th>\n",
       "      <td>Pepperoni</td>\n",
       "      <td>Cheese_and_Garlic</td>\n",
       "      <td>4</td>\n",
       "      <td>17</td>\n",
       "      <td>26.3</td>\n",
       "      <td>4</td>\n",
       "    </tr>\n",
       "    <tr>\n",
       "      <th>1</th>\n",
       "      <td>Hawaiian</td>\n",
       "      <td>Cheese_and_Chili</td>\n",
       "      <td>4</td>\n",
       "      <td>17</td>\n",
       "      <td>27.8</td>\n",
       "      <td>4</td>\n",
       "    </tr>\n",
       "    <tr>\n",
       "      <th>2</th>\n",
       "      <td>Calzone</td>\n",
       "      <td>Cheese_and_Garlic</td>\n",
       "      <td>3</td>\n",
       "      <td>20</td>\n",
       "      <td>31.5</td>\n",
       "      <td>7</td>\n",
       "    </tr>\n",
       "    <tr>\n",
       "      <th>3</th>\n",
       "      <td>Margherita</td>\n",
       "      <td>Cheese</td>\n",
       "      <td>4</td>\n",
       "      <td>23</td>\n",
       "      <td>20.8</td>\n",
       "      <td>7</td>\n",
       "    </tr>\n",
       "    <tr>\n",
       "      <th>4</th>\n",
       "      <td>Calzone</td>\n",
       "      <td>Cheese_and_Garlic</td>\n",
       "      <td>4</td>\n",
       "      <td>19</td>\n",
       "      <td>27.7</td>\n",
       "      <td>8</td>\n",
       "    </tr>\n",
       "  </tbody>\n",
       "</table>\n",
       "</div>"
      ],
      "text/plain": [
       "  Product Name              Crust  Toppings  Price  Delivery Time  \\\n",
       "0    Pepperoni  Cheese_and_Garlic         4     17           26.3   \n",
       "1     Hawaiian   Cheese_and_Chili         4     17           27.8   \n",
       "2      Calzone  Cheese_and_Garlic         3     20           31.5   \n",
       "3   Margherita             Cheese         4     23           20.8   \n",
       "4      Calzone  Cheese_and_Garlic         4     19           27.7   \n",
       "\n",
       "   # pizzas the customer ordered before  \n",
       "0                                     4  \n",
       "1                                     4  \n",
       "2                                     7  \n",
       "3                                     7  \n",
       "4                                     8  "
      ]
     },
     "execution_count": 3,
     "metadata": {},
     "output_type": "execute_result"
    }
   ],
   "source": [
    "df = pd.read_csv(\"../../Z_Resources/Statistics with Python/Inferential Statistics/Confidence Intervals/pizza_restaurant.csv\")\n",
    "df.head()"
   ]
  },
  {
   "cell_type": "code",
   "execution_count": 4,
   "id": "8da06fd5-afd0-4bcc-9768-a3355267bca1",
   "metadata": {},
   "outputs": [
    {
     "data": {
      "text/html": [
       "<div>\n",
       "<style scoped>\n",
       "    .dataframe tbody tr th:only-of-type {\n",
       "        vertical-align: middle;\n",
       "    }\n",
       "\n",
       "    .dataframe tbody tr th {\n",
       "        vertical-align: top;\n",
       "    }\n",
       "\n",
       "    .dataframe thead th {\n",
       "        text-align: right;\n",
       "    }\n",
       "</style>\n",
       "<table border=\"1\" class=\"dataframe\">\n",
       "  <thead>\n",
       "    <tr style=\"text-align: right;\">\n",
       "      <th></th>\n",
       "      <th>Toppings</th>\n",
       "      <th>Price</th>\n",
       "      <th>Delivery Time</th>\n",
       "      <th># pizzas the customer ordered before</th>\n",
       "    </tr>\n",
       "  </thead>\n",
       "  <tbody>\n",
       "    <tr>\n",
       "      <th>count</th>\n",
       "      <td>1000.000000</td>\n",
       "      <td>1000.000000</td>\n",
       "      <td>1000.000000</td>\n",
       "      <td>1000.000000</td>\n",
       "    </tr>\n",
       "    <tr>\n",
       "      <th>mean</th>\n",
       "      <td>3.965000</td>\n",
       "      <td>19.342000</td>\n",
       "      <td>25.061100</td>\n",
       "      <td>5.659000</td>\n",
       "    </tr>\n",
       "    <tr>\n",
       "      <th>std</th>\n",
       "      <td>1.021185</td>\n",
       "      <td>3.345479</td>\n",
       "      <td>2.490397</td>\n",
       "      <td>2.459831</td>\n",
       "    </tr>\n",
       "    <tr>\n",
       "      <th>min</th>\n",
       "      <td>1.000000</td>\n",
       "      <td>12.000000</td>\n",
       "      <td>17.800000</td>\n",
       "      <td>0.000000</td>\n",
       "    </tr>\n",
       "    <tr>\n",
       "      <th>25%</th>\n",
       "      <td>3.000000</td>\n",
       "      <td>17.000000</td>\n",
       "      <td>23.300000</td>\n",
       "      <td>4.000000</td>\n",
       "    </tr>\n",
       "    <tr>\n",
       "      <th>50%</th>\n",
       "      <td>4.000000</td>\n",
       "      <td>19.000000</td>\n",
       "      <td>25.100000</td>\n",
       "      <td>5.000000</td>\n",
       "    </tr>\n",
       "    <tr>\n",
       "      <th>75%</th>\n",
       "      <td>5.000000</td>\n",
       "      <td>21.000000</td>\n",
       "      <td>26.700000</td>\n",
       "      <td>7.000000</td>\n",
       "    </tr>\n",
       "    <tr>\n",
       "      <th>max</th>\n",
       "      <td>7.000000</td>\n",
       "      <td>33.000000</td>\n",
       "      <td>32.400000</td>\n",
       "      <td>15.000000</td>\n",
       "    </tr>\n",
       "  </tbody>\n",
       "</table>\n",
       "</div>"
      ],
      "text/plain": [
       "          Toppings        Price  Delivery Time  \\\n",
       "count  1000.000000  1000.000000    1000.000000   \n",
       "mean      3.965000    19.342000      25.061100   \n",
       "std       1.021185     3.345479       2.490397   \n",
       "min       1.000000    12.000000      17.800000   \n",
       "25%       3.000000    17.000000      23.300000   \n",
       "50%       4.000000    19.000000      25.100000   \n",
       "75%       5.000000    21.000000      26.700000   \n",
       "max       7.000000    33.000000      32.400000   \n",
       "\n",
       "       # pizzas the customer ordered before  \n",
       "count                           1000.000000  \n",
       "mean                               5.659000  \n",
       "std                                2.459831  \n",
       "min                                0.000000  \n",
       "25%                                4.000000  \n",
       "50%                                5.000000  \n",
       "75%                                7.000000  \n",
       "max                               15.000000  "
      ]
     },
     "execution_count": 4,
     "metadata": {},
     "output_type": "execute_result"
    }
   ],
   "source": [
    "df.describe()"
   ]
  },
  {
   "cell_type": "markdown",
   "id": "26ffc859-535b-45e5-adb1-be42f31f460c",
   "metadata": {},
   "source": [
    "## Standard Error of Sample mean"
   ]
  },
  {
   "cell_type": "code",
   "execution_count": 5,
   "id": "7663f232-a35f-4405-89fc-b5cabc53188b",
   "metadata": {},
   "outputs": [
    {
     "data": {
      "text/plain": [
       "(0.105793327900337, 0.105793327900337)"
      ]
     },
     "execution_count": 5,
     "metadata": {},
     "output_type": "execute_result"
    }
   ],
   "source": [
    "# SE for Price\n",
    "se = df.Price.std()/math.sqrt(df.Price.count())\n",
    "se, st.sem(df.Price)"
   ]
  },
  {
   "cell_type": "markdown",
   "id": "db931fcd-0e35-4286-b241-1d055a774427",
   "metadata": {},
   "source": [
    "## Standaization and Z-scores \n",
    "- Used to standardize the values to mean 0 and sd 1"
   ]
  },
  {
   "cell_type": "code",
   "execution_count": 6,
   "id": "71e24d6a-ba06-4ea6-b976-edc2f27a799f",
   "metadata": {},
   "outputs": [],
   "source": [
    "df[\"Delivery Time Standardaized\"] = (df[\"Delivery Time\"] - df[\"Delivery Time\"].mean())/df[\"Delivery Time\"].std()"
   ]
  },
  {
   "cell_type": "code",
   "execution_count": 7,
   "id": "6462f03c-ec71-4731-9838-0fd670a9beb1",
   "metadata": {},
   "outputs": [
    {
     "data": {
      "text/html": [
       "<div>\n",
       "<style scoped>\n",
       "    .dataframe tbody tr th:only-of-type {\n",
       "        vertical-align: middle;\n",
       "    }\n",
       "\n",
       "    .dataframe tbody tr th {\n",
       "        vertical-align: top;\n",
       "    }\n",
       "\n",
       "    .dataframe thead th {\n",
       "        text-align: right;\n",
       "    }\n",
       "</style>\n",
       "<table border=\"1\" class=\"dataframe\">\n",
       "  <thead>\n",
       "    <tr style=\"text-align: right;\">\n",
       "      <th></th>\n",
       "      <th>Product Name</th>\n",
       "      <th>Crust</th>\n",
       "      <th>Toppings</th>\n",
       "      <th>Price</th>\n",
       "      <th>Delivery Time</th>\n",
       "      <th># pizzas the customer ordered before</th>\n",
       "      <th>Delivery Time Standardaized</th>\n",
       "      <th>Delivery Time Standardized2</th>\n",
       "    </tr>\n",
       "  </thead>\n",
       "  <tbody>\n",
       "    <tr>\n",
       "      <th>0</th>\n",
       "      <td>Pepperoni</td>\n",
       "      <td>Cheese_and_Garlic</td>\n",
       "      <td>4</td>\n",
       "      <td>17</td>\n",
       "      <td>26.3</td>\n",
       "      <td>4</td>\n",
       "      <td>0.497471</td>\n",
       "      <td>0.497720</td>\n",
       "    </tr>\n",
       "    <tr>\n",
       "      <th>1</th>\n",
       "      <td>Hawaiian</td>\n",
       "      <td>Cheese_and_Chili</td>\n",
       "      <td>4</td>\n",
       "      <td>17</td>\n",
       "      <td>27.8</td>\n",
       "      <td>4</td>\n",
       "      <td>1.099784</td>\n",
       "      <td>1.100335</td>\n",
       "    </tr>\n",
       "    <tr>\n",
       "      <th>2</th>\n",
       "      <td>Calzone</td>\n",
       "      <td>Cheese_and_Garlic</td>\n",
       "      <td>3</td>\n",
       "      <td>20</td>\n",
       "      <td>31.5</td>\n",
       "      <td>7</td>\n",
       "      <td>2.585491</td>\n",
       "      <td>2.586785</td>\n",
       "    </tr>\n",
       "    <tr>\n",
       "      <th>3</th>\n",
       "      <td>Margherita</td>\n",
       "      <td>Cheese</td>\n",
       "      <td>4</td>\n",
       "      <td>23</td>\n",
       "      <td>20.8</td>\n",
       "      <td>7</td>\n",
       "      <td>-1.711012</td>\n",
       "      <td>-1.711868</td>\n",
       "    </tr>\n",
       "    <tr>\n",
       "      <th>4</th>\n",
       "      <td>Calzone</td>\n",
       "      <td>Cheese_and_Garlic</td>\n",
       "      <td>4</td>\n",
       "      <td>19</td>\n",
       "      <td>27.7</td>\n",
       "      <td>8</td>\n",
       "      <td>1.059630</td>\n",
       "      <td>1.060160</td>\n",
       "    </tr>\n",
       "  </tbody>\n",
       "</table>\n",
       "</div>"
      ],
      "text/plain": [
       "  Product Name              Crust  Toppings  Price  Delivery Time  \\\n",
       "0    Pepperoni  Cheese_and_Garlic         4     17           26.3   \n",
       "1     Hawaiian   Cheese_and_Chili         4     17           27.8   \n",
       "2      Calzone  Cheese_and_Garlic         3     20           31.5   \n",
       "3   Margherita             Cheese         4     23           20.8   \n",
       "4      Calzone  Cheese_and_Garlic         4     19           27.7   \n",
       "\n",
       "   # pizzas the customer ordered before  Delivery Time Standardaized  \\\n",
       "0                                     4                     0.497471   \n",
       "1                                     4                     1.099784   \n",
       "2                                     7                     2.585491   \n",
       "3                                     7                    -1.711012   \n",
       "4                                     8                     1.059630   \n",
       "\n",
       "   Delivery Time Standardized2  \n",
       "0                     0.497720  \n",
       "1                     1.100335  \n",
       "2                     2.586785  \n",
       "3                    -1.711868  \n",
       "4                     1.060160  "
      ]
     },
     "execution_count": 7,
     "metadata": {},
     "output_type": "execute_result"
    }
   ],
   "source": [
    "from sklearn.preprocessing import StandardScaler\n",
    "scaler = StandardScaler()  # Correct typo: scalar -> scaler\n",
    "df[\"Delivery Time Standardized2\"] = scaler.fit_transform(df[\"Delivery Time\"].values.reshape(-1, 1))\n",
    "df.head()"
   ]
  },
  {
   "cell_type": "code",
   "execution_count": 8,
   "id": "42caa1cb-281e-4151-a28f-2a8120578876",
   "metadata": {},
   "outputs": [
    {
     "data": {
      "text/html": [
       "<div>\n",
       "<style scoped>\n",
       "    .dataframe tbody tr th:only-of-type {\n",
       "        vertical-align: middle;\n",
       "    }\n",
       "\n",
       "    .dataframe tbody tr th {\n",
       "        vertical-align: top;\n",
       "    }\n",
       "\n",
       "    .dataframe thead th {\n",
       "        text-align: right;\n",
       "    }\n",
       "</style>\n",
       "<table border=\"1\" class=\"dataframe\">\n",
       "  <thead>\n",
       "    <tr style=\"text-align: right;\">\n",
       "      <th></th>\n",
       "      <th>Toppings</th>\n",
       "      <th>Price</th>\n",
       "      <th>Delivery Time</th>\n",
       "      <th># pizzas the customer ordered before</th>\n",
       "      <th>Delivery Time Standardaized</th>\n",
       "      <th>Delivery Time Standardized2</th>\n",
       "    </tr>\n",
       "  </thead>\n",
       "  <tbody>\n",
       "    <tr>\n",
       "      <th>count</th>\n",
       "      <td>1000.000000</td>\n",
       "      <td>1000.000000</td>\n",
       "      <td>1000.000000</td>\n",
       "      <td>1000.000000</td>\n",
       "      <td>1.000000e+03</td>\n",
       "      <td>1.000000e+03</td>\n",
       "    </tr>\n",
       "    <tr>\n",
       "      <th>mean</th>\n",
       "      <td>3.965000</td>\n",
       "      <td>19.342000</td>\n",
       "      <td>25.061100</td>\n",
       "      <td>5.659000</td>\n",
       "      <td>1.385558e-16</td>\n",
       "      <td>1.421085e-16</td>\n",
       "    </tr>\n",
       "    <tr>\n",
       "      <th>std</th>\n",
       "      <td>1.021185</td>\n",
       "      <td>3.345479</td>\n",
       "      <td>2.490397</td>\n",
       "      <td>2.459831</td>\n",
       "      <td>1.000000e+00</td>\n",
       "      <td>1.000500e+00</td>\n",
       "    </tr>\n",
       "    <tr>\n",
       "      <th>min</th>\n",
       "      <td>1.000000</td>\n",
       "      <td>12.000000</td>\n",
       "      <td>17.800000</td>\n",
       "      <td>0.000000</td>\n",
       "      <td>-2.915639e+00</td>\n",
       "      <td>-2.917098e+00</td>\n",
       "    </tr>\n",
       "    <tr>\n",
       "      <th>25%</th>\n",
       "      <td>3.000000</td>\n",
       "      <td>17.000000</td>\n",
       "      <td>23.300000</td>\n",
       "      <td>4.000000</td>\n",
       "      <td>-7.071562e-01</td>\n",
       "      <td>-7.075101e-01</td>\n",
       "    </tr>\n",
       "    <tr>\n",
       "      <th>50%</th>\n",
       "      <td>4.000000</td>\n",
       "      <td>19.000000</td>\n",
       "      <td>25.100000</td>\n",
       "      <td>5.000000</td>\n",
       "      <td>1.562000e-02</td>\n",
       "      <td>1.562781e-02</td>\n",
       "    </tr>\n",
       "    <tr>\n",
       "      <th>75%</th>\n",
       "      <td>5.000000</td>\n",
       "      <td>21.000000</td>\n",
       "      <td>26.700000</td>\n",
       "      <td>7.000000</td>\n",
       "      <td>6.580878e-01</td>\n",
       "      <td>6.584171e-01</td>\n",
       "    </tr>\n",
       "    <tr>\n",
       "      <th>max</th>\n",
       "      <td>7.000000</td>\n",
       "      <td>33.000000</td>\n",
       "      <td>32.400000</td>\n",
       "      <td>15.000000</td>\n",
       "      <td>2.946879e+00</td>\n",
       "      <td>2.948354e+00</td>\n",
       "    </tr>\n",
       "  </tbody>\n",
       "</table>\n",
       "</div>"
      ],
      "text/plain": [
       "          Toppings        Price  Delivery Time  \\\n",
       "count  1000.000000  1000.000000    1000.000000   \n",
       "mean      3.965000    19.342000      25.061100   \n",
       "std       1.021185     3.345479       2.490397   \n",
       "min       1.000000    12.000000      17.800000   \n",
       "25%       3.000000    17.000000      23.300000   \n",
       "50%       4.000000    19.000000      25.100000   \n",
       "75%       5.000000    21.000000      26.700000   \n",
       "max       7.000000    33.000000      32.400000   \n",
       "\n",
       "       # pizzas the customer ordered before  Delivery Time Standardaized  \\\n",
       "count                           1000.000000                 1.000000e+03   \n",
       "mean                               5.659000                 1.385558e-16   \n",
       "std                                2.459831                 1.000000e+00   \n",
       "min                                0.000000                -2.915639e+00   \n",
       "25%                                4.000000                -7.071562e-01   \n",
       "50%                                5.000000                 1.562000e-02   \n",
       "75%                                7.000000                 6.580878e-01   \n",
       "max                               15.000000                 2.946879e+00   \n",
       "\n",
       "       Delivery Time Standardized2  \n",
       "count                 1.000000e+03  \n",
       "mean                  1.421085e-16  \n",
       "std                   1.000500e+00  \n",
       "min                  -2.917098e+00  \n",
       "25%                  -7.075101e-01  \n",
       "50%                   1.562781e-02  \n",
       "75%                   6.584171e-01  \n",
       "max                   2.948354e+00  "
      ]
     },
     "execution_count": 8,
     "metadata": {},
     "output_type": "execute_result"
    }
   ],
   "source": [
    "df.describe()"
   ]
  },
  {
   "cell_type": "markdown",
   "id": "e67b0753-c96b-46fb-a77c-2e3d3cbeb85c",
   "metadata": {},
   "source": [
    "## Confidence Level "
   ]
  },
  {
   "cell_type": "code",
   "execution_count": 9,
   "id": "42e651b7-c985-4ec0-8239-d7d20439d547",
   "metadata": {},
   "outputs": [
    {
     "name": "stdout",
     "output_type": "stream",
     "text": [
      "The normal Distribution value for 0.005 is -2.58\n",
      "The normal Distribution value for 0.025 is -1.96\n",
      "The normal Distribution value for 0.05 is -1.64\n",
      "The normal Distribution value for 0.95 is 1.64\n",
      "The normal Distribution value for 0.975 is 1.96\n",
      "The normal Distribution value for 0.995 is 2.58\n"
     ]
    }
   ],
   "source": [
    "cl = [0.005, 0.025, 0.05, 0.95, 0.975, 0.995]\n",
    "for alpha in cl:\n",
    "    print(f\"The normal Distribution value for {alpha} is {round(st.norm.ppf(alpha),2)}\")"
   ]
  },
  {
   "cell_type": "code",
   "execution_count": 10,
   "id": "6ccf22e1-cc4a-4991-9ebb-963f4521e4e2",
   "metadata": {},
   "outputs": [
    {
     "data": {
      "text/plain": [
       "(19.134648887510703, 19.549351112489294)"
      ]
     },
     "execution_count": 10,
     "metadata": {},
     "output_type": "execute_result"
    }
   ],
   "source": [
    "# for large Samples\n",
    "mean = df.Price.mean()\n",
    "c_i = st.norm.interval(alpha = 0.95, loc = mean,scale = st.sem(df.Price))\n",
    "c_i"
   ]
  },
  {
   "cell_type": "code",
   "execution_count": 11,
   "id": "561d420c-a1ed-4ed2-8e34-1cd525b836b6",
   "metadata": {},
   "outputs": [
    {
     "data": {
      "text/plain": [
       "0.105793327900337"
      ]
     },
     "execution_count": 11,
     "metadata": {},
     "output_type": "execute_result"
    }
   ],
   "source": [
    "st.sem(df.Price)"
   ]
  },
  {
   "cell_type": "code",
   "execution_count": 12,
   "id": "0b1bcf7c-3b97-42d4-9a14-272501bf7a82",
   "metadata": {},
   "outputs": [
    {
     "data": {
      "text/plain": [
       "Index(['Toppings', 'Price', 'Delivery Time',\n",
       "       '# pizzas the customer ordered before', 'Delivery Time Standardaized',\n",
       "       'Delivery Time Standardized2'],\n",
       "      dtype='object')"
      ]
     },
     "execution_count": 12,
     "metadata": {},
     "output_type": "execute_result"
    }
   ],
   "source": [
    "df.describe().columns"
   ]
  },
  {
   "cell_type": "code",
   "execution_count": 13,
   "id": "fd3a4053-f64f-444a-b96f-d4fc4e69c0ba",
   "metadata": {},
   "outputs": [
    {
     "name": "stdout",
     "output_type": "stream",
     "text": [
      "Confidence Interval of Toppings is [3.9, 4.03]\n",
      "Confidence Interval of Price is [19.13, 19.55]\n",
      "Confidence Interval of Delivery Time is [24.91, 25.22]\n",
      "Confidence Interval of # pizzas the customer ordered before is [5.51, 5.81]\n",
      "Confidence Interval of Delivery Time Standardaized is [-0.06, 0.06]\n",
      "Confidence Interval of Delivery Time Standardized2 is [-0.06, 0.06]\n"
     ]
    }
   ],
   "source": [
    "for name in df.describe().columns:\n",
    "    c_i = [round(i,2) for i in st.norm.interval(alpha = 0.95, loc = df[name].mean(),scale = st.sem(df[name]))]\n",
    "    print(f\"Confidence Interval of {name} is {c_i}\")"
   ]
  },
  {
   "cell_type": "code",
   "execution_count": 14,
   "id": "ebe6cbda-7c4c-4f38-b065-6eb32c272508",
   "metadata": {},
   "outputs": [
    {
     "data": {
      "text/plain": [
       "(16.677819861539852, 20.02218013846015)"
      ]
     },
     "execution_count": 14,
     "metadata": {},
     "output_type": "execute_result"
    }
   ],
   "source": [
    "sample = df.sample(20)\n",
    "c_i = st.t.interval(alpha=0.95, df = len(sample)-1, loc = sample[\"Price\"].mean(), scale = st.sem(sample[\"Price\"]))\n",
    "c_i"
   ]
  },
  {
   "cell_type": "code",
   "execution_count": 15,
   "id": "c4cacbfb-2c20-4bf4-8d7b-087eb2652cd5",
   "metadata": {},
   "outputs": [
    {
     "name": "stdout",
     "output_type": "stream",
     "text": [
      "Confidence Interval of Toppings is [3.32, 4.18]\n",
      "Confidence Interval of Price is [16.68, 20.02]\n",
      "Confidence Interval of Delivery Time is [23.95, 26.04]\n",
      "Confidence Interval of # pizzas the customer ordered before is [4.22, 5.98]\n",
      "Confidence Interval of Delivery Time Standardaized is [-0.45, 0.39]\n",
      "Confidence Interval of Delivery Time Standardized2 is [-0.45, 0.39]\n"
     ]
    }
   ],
   "source": [
    "for name in df.describe().columns:\n",
    "    c_i = [round(i,2) for i in st.t.interval(alpha = 0.95,df = len(sample)-1, loc = sample[name].mean(),scale = st.sem(sample[name]))]\n",
    "    print(f\"Confidence Interval of {name} is {c_i}\")"
   ]
  },
  {
   "cell_type": "code",
   "execution_count": null,
   "id": "ead58477-0385-4be8-89ba-7155274cc218",
   "metadata": {},
   "outputs": [],
   "source": []
  },
  {
   "cell_type": "code",
   "execution_count": null,
   "id": "ee4a5f60-106d-4f21-b2f5-1fb4ff96097c",
   "metadata": {},
   "outputs": [],
   "source": []
  },
  {
   "cell_type": "code",
   "execution_count": null,
   "id": "6a62ea69-5844-4b23-99c5-f260d2f9bcf6",
   "metadata": {},
   "outputs": [],
   "source": []
  },
  {
   "cell_type": "code",
   "execution_count": null,
   "id": "4c7ab919-fce5-4c97-bf0f-896d3305cd79",
   "metadata": {},
   "outputs": [],
   "source": []
  }
 ],
 "metadata": {
  "kernelspec": {
   "display_name": "Python 3",
   "language": "python",
   "name": "python3"
  },
  "language_info": {
   "codemirror_mode": {
    "name": "ipython",
    "version": 3
   },
   "file_extension": ".py",
   "mimetype": "text/x-python",
   "name": "python",
   "nbconvert_exporter": "python",
   "pygments_lexer": "ipython3",
   "version": "3.10.14"
  }
 },
 "nbformat": 4,
 "nbformat_minor": 5
}
